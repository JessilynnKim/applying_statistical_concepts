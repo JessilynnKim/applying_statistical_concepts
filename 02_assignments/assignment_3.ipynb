{
 "cells": [
  {
   "cell_type": "markdown",
   "id": "7b0bcac6-5086-4f4e-928a-570a9ff7ae58",
   "metadata": {},
   "source": [
    "# Assignment 3"
   ]
  },
  {
   "cell_type": "markdown",
   "id": "5fce0350-2a17-4e93-8d4c-0b8748fdfc32",
   "metadata": {},
   "source": [
    "As before, if a question can be answered with 'yes/no', or a numeric value, you may simply state as much. If you incorporate code from the internet (which is not required and generally not advisable), please cite the source within your code (providing a URL is sufficient).\n",
    "\n",
    "We will go through comparable code and concepts in the live learning session. If you run into trouble, start by using the help `help()` function in Python, to get information about the datasets and function in question. The internet is also a great resource when coding (though note that no outside searches are required by the assignment!). If you do incorporate code from the internet, please cite the source within your code (providing a URL is sufficient).\n",
    "\n",
    "Please bring questions that you cannot work out on your own to office hours, work periods or share with your peers on Slack. We will work with you through the issue."
   ]
  },
  {
   "cell_type": "code",
   "execution_count": 15,
   "id": "b92f7c91",
   "metadata": {},
   "outputs": [],
   "source": [
    "import numpy as np\n",
    "import pandas as pd\n",
    "import matplotlib.pyplot as plt\n",
    "import statsmodels.api as sm\n"
   ]
  },
  {
   "cell_type": "markdown",
   "id": "d7fff1dd-e4ce-4a60-96a0-d08136e9bf5e",
   "metadata": {},
   "source": [
    "### Question 1: Resampling via Bootstrapping\n",
    "\n",
    "Now, we'll use the `iris` dataset, which we will add to Python using the `statsmodels` library. As always, start by reviewing a description of the dataset, by printing the dataset."
   ]
  },
  {
   "cell_type": "code",
   "execution_count": 16,
   "id": "47f4dcf5-0d4c-41ea-892d-d9f2c1aa1859",
   "metadata": {},
   "outputs": [],
   "source": [
    "# Import\n",
    "iris = sm.datasets.get_rdataset('iris', 'datasets')\n",
    "df = pd.DataFrame(iris.data)"
   ]
  },
  {
   "cell_type": "markdown",
   "id": "7717a32c",
   "metadata": {},
   "source": [
    "_(i)_ Create an `alpha_func(D, idx)` function which takes the `Sepal`'s `width` and `length` to calculate for alpha"
   ]
  },
  {
   "cell_type": "code",
   "execution_count": 37,
   "id": "f3da5483",
   "metadata": {},
   "outputs": [],
   "source": [
    "Portfolio = pd.DataFrame(iris.data)\n",
    "# define the function \n",
    "def alpha_func(D, idx):\n",
    "    cov= np.cov(D[['Sepal.Length', 'Sepal.Width']]. loc[idx],rowvar=False)\n",
    "    alpha= (cov[1,1]-cov[0,1])/ (cov[0,0] + cov[1,1]-2 * cov[0,1])\n",
    "    return alpha"
   ]
  },
  {
   "cell_type": "markdown",
   "id": "ff94d66b",
   "metadata": {},
   "source": [
    "Test the code below"
   ]
  },
  {
   "cell_type": "code",
   "execution_count": 38,
   "id": "eda715cd",
   "metadata": {},
   "outputs": [
    {
     "data": {
      "text/plain": [
       "0.38105014898343803"
      ]
     },
     "execution_count": 38,
     "metadata": {},
     "output_type": "execute_result"
    }
   ],
   "source": [
    "alpha_func(df, range(100))"
   ]
  },
  {
   "cell_type": "markdown",
   "id": "f338b14e",
   "metadata": {},
   "source": [
    "_(ii)_ Construct a new bootstrap data set and recompute alpha"
   ]
  },
  {
   "cell_type": "code",
   "execution_count": 39,
   "id": "34ee835f",
   "metadata": {},
   "outputs": [
    {
     "data": {
      "text/plain": [
       "0.3324645134841774"
      ]
     },
     "execution_count": 39,
     "metadata": {},
     "output_type": "execute_result"
    }
   ],
   "source": [
    "rng = np.random.default_rng(0)\n",
    "alpha_func(df,\n",
    "           rng.choice(100,\n",
    "                      100,\n",
    "                      replace=True))"
   ]
  },
  {
   "cell_type": "markdown",
   "id": "056080ff-7aec-41aa-bb61-763b390e4cf2",
   "metadata": {},
   "source": [
    "Imagine we are analysts working for a shipping company. The company wants to know the average length of iris' petals, to inform space allotment on an upcoming shipment. The relevant variable in the dataset is `Sepal.Length`. \n",
    "\n",
    "_(iii)_ Why is it (perhaps) not sufficient to simply calculate the mean of `Sepal.Length`? What more information will preforming a bootstrap provide to us?  \n",
    "\n",
    "_(iv)_ We can perform bootstrapping in Python by defining a simple function using `boot_SE()` for computing the bootstrap standard error. Remember, because bootstrapping involves randomness, we must first set a seed for reproducibility!"
   ]
  },
  {
   "cell_type": "code",
   "execution_count": 40,
   "id": "77540f76-7747-4dba-8e77-e1ded54af536",
   "metadata": {},
   "outputs": [],
   "source": [
    "# Add your code here to set the seed\n",
    "#(iii) Simply calculating 'Sepal.Length' doesn't provide variability and uncertainty information. It only provide estimates of the average length. Boostrap will provide sampling distribution of the mean estimate which will give insights into variability, precision of estimates and confidence intervals\n",
    "\n",
    "# Defining boot_SE function\n",
    "def boot_SE(D, B=1000, seed=0):\n",
    "    rng = np.random.default_rng (seed)\n",
    "    bootstrap_values = []\n",
    "    n = D.shape[0]\n",
    "    for i in range(B):\n",
    "        idx = rng.choice(D.index, n, replace=True)\n",
    "        value = alpha_func(D, idx)\n",
    "        bootstrap_values.append(value)\n",
    "    return np.std(np.array(bootstrap_values))\n",
    "\n",
    "#Reproducibility setting\n",
    "np.random.seed(42)\n"
   ]
  },
  {
   "cell_type": "markdown",
   "id": "8a543472",
   "metadata": {},
   "source": [
    "_(v)_ Evaluate the accuracy of our alpha estimate with B = 1000"
   ]
  },
  {
   "cell_type": "code",
   "execution_count": 41,
   "id": "9ed41c4e",
   "metadata": {},
   "outputs": [],
   "source": [
    "# Your code here\n",
    "#Evaluating alpha estimate with B=1000\n",
    "alpha_SE = boot_SE(D=Portfolio,B=1000,seed=0)"
   ]
  },
  {
   "cell_type": "markdown",
   "id": "2e5e0c7f",
   "metadata": {},
   "source": [
    "_(vi)_ What is the original mean value of `Sepal.Length`?"
   ]
  },
  {
   "cell_type": "code",
   "execution_count": 42,
   "id": "7c9d5004",
   "metadata": {},
   "outputs": [
    {
     "name": "stdout",
     "output_type": "stream",
     "text": [
      "Original mean value of Sepal.Length:5.843333333333334\n"
     ]
    }
   ],
   "source": [
    "Org_mean_Sepal_Length = Portfolio['Sepal.Length'].mean()\n",
    "print (f'Original mean value of Sepal.Length:{Org_mean_Sepal_Length}')"
   ]
  },
  {
   "cell_type": "markdown",
   "id": "785fe758-f395-40b6-a9a3-28ec2efeba29",
   "metadata": {},
   "source": [
    "Next, let's create a new bootstrapping to bootstrap samples (`boot_se_samples`) of `Sepal.Length`, in order to compute its bootstrapped mean and standard deviation.\n",
    "\n",
    "_(vii)_. Write code to review the bootstrapped mean value, and the standard deviation of the bootstrapped samples. Compare the mean against its original value. Then, review the bootstrapped range, by using `t_range = np.ptp(boot_se_samples)`."
   ]
  },
  {
   "cell_type": "code",
   "execution_count": 45,
   "id": "7686243c",
   "metadata": {},
   "outputs": [
    {
     "name": "stdout",
     "output_type": "stream",
     "text": [
      "Bootstrapped mean value of Sepal.Length: 5.8446913333333335\n",
      "Bootstrapped standard deviation of Sepal.Length: 0.06635603182046798\n",
      "Bootstrapped range of Sepal.Length: 0.3853333333333335\n",
      "Original mean compared to Bootstrapped mean: 5.843333333333334 vs 5.8446913333333335\n"
     ]
    }
   ],
   "source": [
    "# Set the seed for reproducibility\n",
    "np.random.seed(0)\n",
    "\n",
    "# Defining bootstrapping function for Sepal.Length\n",
    "def bootstrap_samples(data, n_samples=1000):\n",
    "    rng = np.random.default_rng(0)\n",
    "    samples = [data.sample(frac=1, replace=True).mean() for _ in range(n_samples)]\n",
    "    return samples\n",
    "\n",
    "#Boostrap Sample creation\n",
    "boot_se_samples = bootstrap_samples(Portfolio['Sepal.Length'], n_samples=1000)\n",
    "\n",
    "# Mean and standard deviation calculation\n",
    "bootstrapped_mean = np.mean(boot_se_samples)\n",
    "bootstrapped_std = np.std(boot_se_samples, ddof=1)\n",
    "\n",
    "print(f'Bootstrapped mean value of Sepal.Length: {bootstrapped_mean}')\n",
    "print(f'Bootstrapped standard deviation of Sepal.Length: {bootstrapped_std}')\n",
    "\n",
    "\n",
    "# Range of the bootstrapped samples\n",
    "t_range = np.ptp(boot_se_samples)\n",
    "\n",
    "print(f'Bootstrapped range of Sepal.Length: {t_range}')\n",
    "print(f'Original mean compared to Bootstrapped mean: {Org_mean_Sepal_Length} vs {bootstrapped_mean}')"
   ]
  },
  {
   "cell_type": "markdown",
   "id": "66c6c663-f3bb-4a15-8896-6dccfb7259fd",
   "metadata": {},
   "source": [
    "_(viii)_ Next, let's compute 95% confidence intervals, for the mean value of iris sepal length. (Hint: use the `np.percentile` function)"
   ]
  },
  {
   "cell_type": "code",
   "execution_count": 47,
   "id": "74de4a76-e500-4c93-82a9-e7365cc86c91",
   "metadata": {},
   "outputs": [
    {
     "name": "stdout",
     "output_type": "stream",
     "text": [
      "95% confidence interval for the mean value of Sepal.Length: (5.7166500000000005, 5.9719999999999995)\n"
     ]
    }
   ],
   "source": [
    "# 95% confidence intervals for the bootstrapped mean values\n",
    "ci_lower = np.percentile(boot_se_samples, 2.5)\n",
    "ci_upper = np.percentile(boot_se_samples, 97.5)\n",
    "\n",
    "print(f'95% confidence interval for the mean value of Sepal.Length: ({ci_lower}, {ci_upper})')"
   ]
  },
  {
   "cell_type": "markdown",
   "id": "488e54f7-ebe4-4740-835c-9832320005d0",
   "metadata": {},
   "source": [
    "_(ix)_. Use the plot function to create an histogram of the bootstrapped samples. What does this histogram show ?"
   ]
  },
  {
   "cell_type": "code",
   "execution_count": 55,
   "id": "4fca4e3f",
   "metadata": {},
   "outputs": [
    {
     "data": {
      "image/png": "[encoded data removed]",
      "text/plain": [
       "<Figure size 640x480 with 1 Axes>"
      ]
     },
     "metadata": {},
     "output_type": "display_data"
    }
   ],
   "source": [
    "#Complete this\n",
    "\n",
    "# Create a figure and axis\n",
    "fig, ax = plt.subplots()\n",
    "\n",
    "# Create the histogram\n",
    "ax.hist(boot_se_samples, bins=20, edgecolor='blue')\n",
    "\n",
    "# Add a title\n",
    "ax.set_title('Histogram of Bootstrapped Means of Sepal.Length')\n",
    "\n",
    "# Add a label to the x-axis\n",
    "ax.set_xlabel('Bootstrapped Mean of Sepal.Length')\n",
    "\n",
    "# Add a label to the y-axis\n",
    "ax.set_ylabel('Frequency')\n",
    "\n",
    "# Show the plot\n",
    "plt.show()"
   ]
  },
  {
   "cell_type": "markdown",
   "id": "bfa9a095-9c7a-4ab5-aa99-b11bf419fae0",
   "metadata": {},
   "source": [
    "_(x)_ Given your bootstrapped analysis, what do you recommend to shipping company? "
   ]
  },
  {
   "cell_type": "markdown",
   "id": "cec6af9b",
   "metadata": {},
   "source": [
    "- Sepal.Length variability is low and confidence level is narrow. This information can be leveraged for space planning to minimize risk\n",
    "- Packing efficency can be improved with precise mean and confidence interval for Sepal.Length leading to space utilization and cost savings while effectively using resources\n",
    "- Sepal.Length can only have minimal variation between 5.744 cm to 5.944 cm with 95% confidence interval "
   ]
  },
  {
   "cell_type": "markdown",
   "id": "466943e8",
   "metadata": {},
   "source": [
    "# Criteria\n",
    "\n",
    "|Criteria            |Complete           |Incomplete          |\n",
    "|--------------------|---------------|--------------|\n",
    "|Bootstrapping|All steps are done correctly and the answers are correct.|At least one step is done incorrectly leading to a wrong answer.|"
   ]
  },
  {
   "cell_type": "markdown",
   "id": "68b8a226",
   "metadata": {},
   "source": [
    "## Submission Information\n",
    "\n",
    "🚨 **Please review our [Assignment Submission Guide](https://github.com/UofT-DSI/onboarding/blob/main/onboarding_documents/submissions.md)** 🚨 for detailed instructions on how to format, branch, and submit your work. Following these guidelines is crucial for your submissions to be evaluated correctly.\n",
    "\n",
    "### Note:\n",
    "\n",
    "If you like, you may collaborate with others in the cohort. If you choose to do so, please indicate with whom you have worked with in your pull request by tagging their GitHub username. Separate submissions are required.\n",
    "\n",
    "\n",
    "### Submission Parameters:\n",
    "* Submission Due Date: `HH:MM AM/PM - DD/MM/YYYY`\n",
    "* The branch name for your repo should be: `assignment-3`\n",
    "* What to submit for this assignment:\n",
    "    * This Jupyter Notebook (assignment_3.ipynb) should be populated and should be the only change in your pull request.\n",
    "* What the pull request link should look like for this assignment: `https://github.com/<your_github_username>/applying_statistical_concepts/pull/<pr_id>`\n",
    "    * Open a private window in your browser. Copy and paste the link to your pull request into the address bar. Make sure you can see your pull request properly. This helps the technical facilitator and learning support staff review your submission easily.\n",
    "\n",
    "Checklist:\n",
    "- [ ] Created a branch with the correct naming convention.\n",
    "- [ ] Ensured that the repository is public.\n",
    "- [ ] Reviewed the PR description guidelines and adhered to them.\n",
    "- [ ] Verify that the link is accessible in a private browser window.\n",
    "\n",
    "If you encounter any difficulties or have questions, please don't hesitate to reach out to our team via our Slack at `#cohort-3-help`. Our Technical Facilitators and Learning Support staff are here to help you navigate any challenges.\n"
   ]
  }
 ],
 "metadata": {
  "kernelspec": {
   "display_name": "Python 3.10.4",
   "language": "python",
   "name": "python3"
  },
  "language_info": {
   "codemirror_mode": {
    "name": "ipython",
    "version": 3
   },
   "file_extension": ".py",
   "mimetype": "text/x-python",
   "name": "python",
   "nbconvert_exporter": "python",
   "pygments_lexer": "ipython3",
   "version": "3.9.19"
  },
  "vscode": {
   "interpreter": {
    "hash": "497a84dc8fec8cf8d24e7e87b6d954c9a18a327edc66feb9b9ea7e9e72cc5c7e"
   }
  }
 },
 "nbformat": 4,
 "nbformat_minor": 5
}
